{
 "cells": [
  {
   "cell_type": "code",
   "execution_count": 1,
   "metadata": {},
   "outputs": [],
   "source": [
    "import numpy as np\n",
    "import matplotlib.pyplot as plt"
   ]
  },
  {
   "cell_type": "code",
   "execution_count": 2,
   "metadata": {},
   "outputs": [
    {
     "name": "stdout",
     "output_type": "stream",
     "text": [
      "Synchronization = 100%   /  Updates = 528 / Eve's updates = 85\n",
      "Machines have been synchronized.\n",
      "Time taken = 4.905343770980835 seconds.\n",
      "Updates = 528.\n",
      "Eve's machine is only 0 % synced with Alice's and Bob's and she did 85 updates.\n"
     ]
    },
    {
     "data": {
      "image/png": "[encoded data removed]",
      "text/plain": [
       "<Figure size 640x480 with 1 Axes>"
      ]
     },
     "metadata": {},
     "output_type": "display_data"
    }
   ],
   "source": [
    "def theta(t1, t2):\n",
    "\treturn 1 if t1 == t2 else 0\n",
    "\n",
    "def hebbian(W, X, sigma, tau1, tau2, l):\n",
    "\tfor (i, j), _ in np.ndenumerate(W):\n",
    "\t\tW[i, j] += X[i, j] * tau1 * theta(sigma[i], tau1) * theta(tau1, tau2)\n",
    "\t\tW[i, j] = np.clip(W[i, j] , -l, l)\n",
    "\n",
    "def anti_hebbian(W, X, sigma, tau1, tau2, l):\n",
    "\tfor (i, j), _ in np.ndenumerate(W):\n",
    "\t\tW[i, j] -= X[i, j] * tau1 * theta(sigma[i], tau1) * theta(tau1, tau2)\n",
    "\t\tW[i, j] = np.clip(W[i, j], -l, l)\n",
    "\n",
    "def random_walk(W, X, sigma, tau1, tau2, l):\n",
    "\tfor (i, j), _ in np.ndenumerate(W):\n",
    "\t\tW[i, j] += X[i, j] * theta(sigma[i], tau1) * theta(tau1, tau2)\n",
    "\t\tW[i, j] = np.clip(W[i, j] , -l, l)\n",
    "\n",
    "\n",
    "\n",
    "class TreeParityMachine:\n",
    "    def __init__(self, N, K, L):\n",
    "        self.N = N\n",
    "        self.K = K\n",
    "        self.L = L\n",
    "        self._r()\n",
    "\n",
    "    def _r(self):\n",
    "        self.W = np.random.randint(-self.L, self.L + 1, size=(self.K, self.N))\n",
    "    \n",
    "    def sample_X(self):\n",
    "        return np.random.randint(-self.L, self.L + 1, size=(self.K,  self.N))\n",
    "    \n",
    "    def forward(self, X):\n",
    "        self.X = X#.reshape((self.K, self.N))\n",
    "        self.sgn = np.sign((self.W * self.X).sum(axis=1))\n",
    "        self.y = self.sgn.prod()\n",
    "        return self.y\n",
    "\n",
    "    def update(self, y_other, update_rule='hebian'):\n",
    "        sigma = self.sgn\n",
    "        W = self.W\n",
    "        tau1 = self.y\n",
    "        tau2 = y_other\n",
    "        X = self.X\n",
    "\n",
    "        l = self.L\n",
    "\n",
    "        if (self.y == y_other):\n",
    "            if update_rule == 'hebbian':\n",
    "                hebbian(W, X, sigma, tau1, tau2, l)\n",
    "            elif update_rule == 'anti_hebbian':\n",
    "                anti_hebbian(W, X, sigma, tau1, tau2, l)\n",
    "            elif update_rule == 'random_walk':\n",
    "                random_walk(W, X, sigma, tau1, tau2, l)\n",
    "            else:\n",
    "                raise Exception(\"Invalid update rule. Valid update rules are: \" + \n",
    "                \"\\'hebbian\\', \\'anti_hebbian\\' and \\'random_walk\\'.\")\n",
    "    \n",
    "import time\n",
    "import sys\n",
    "k = 100\n",
    "n = 10\n",
    "l = 10\n",
    "update_rules = ['hebbian', 'anti_hebbian', 'random_walk']\n",
    "update_rule = update_rules[0]\n",
    "\n",
    "Alice = TreeParityMachine(n, k, l)\n",
    "Bob = TreeParityMachine(n, k, l)\n",
    "Eve = TreeParityMachine(n, k, l)\n",
    "\n",
    "def sync_score(m1, m2):\n",
    "\treturn 1.0 - np.average(1.0 * np.abs(m1.W - m2.W)/(2 * l))\n",
    "\n",
    "sync = False \n",
    "nb_updates = 0\n",
    "nb_eve_updates = 0 \n",
    "start_time = time.time()\n",
    "sync_history = [] \n",
    "\n",
    "while(not sync):\n",
    "\n",
    "\tX = Alice.sample_X()\n",
    "\n",
    "\ttauA = Alice.forward(X) \n",
    "\ttauB = Bob.forward(X) \n",
    "\ttauE = Eve.forward(X) \n",
    "\tAlice.update(tauB, update_rule)\n",
    "\tBob.update(tauA, update_rule)\n",
    "\n",
    "\tif tauA == tauB == tauE:\n",
    "\t\tEve.update(tauA, update_rule)\n",
    "\t\tnb_eve_updates += 1\n",
    "\n",
    "\tnb_updates += 1\n",
    "\n",
    "\tscore = 100 * sync_score(Alice, Bob) \n",
    "\n",
    "\tsync_history.append(score)\n",
    "\n",
    "\tsys.stdout.write('\\r' + \"Synchronization = \" + str(int(score)) + \"%   /  Updates = \" + str(nb_updates) + \" / Eve's updates = \" + str(nb_eve_updates)) \n",
    "\tif score == 100:\n",
    "\t\tsync = True\n",
    "\n",
    "end_time = time.time()\n",
    "time_taken = end_time - start_time\n",
    "\n",
    "#Print results\n",
    "print ('\\nMachines have been synchronized.')\n",
    "print ('Time taken = ' + str(time_taken)+ \" seconds.\")\n",
    "print ('Updates = ' + str(nb_updates) + \".\")\n",
    "\n",
    "#See if Eve got what she wanted:\n",
    "eve_score = 100 * int(sync_score(Alice, Eve))\n",
    "if eve_score > 100:\n",
    "\tprint(\"Oops! Nosy Eve synced her machine with Alice's and Bob's !\")\n",
    "else:\n",
    "\tprint(\"Eve's machine is only \" + str(eve_score) + \" % \" + \"synced with Alice's and Bob's and she did \" + str(nb_eve_updates) + \" updates.\") \n",
    "\n",
    "import matplotlib.pyplot as mpl\n",
    "mpl.plot(sync_history)\n",
    "mpl.show()\n"
   ]
  },
  {
   "cell_type": "code",
   "execution_count": 3,
   "metadata": {},
   "outputs": [
    {
     "data": {
      "text/plain": [
       "(100, 10)"
      ]
     },
     "execution_count": 3,
     "metadata": {},
     "output_type": "execute_result"
    }
   ],
   "source": [
    "Bob.sample_X().shape"
   ]
  },
  {
   "cell_type": "code",
   "execution_count": null,
   "metadata": {},
   "outputs": [],
   "source": []
  }
 ],
 "metadata": {
  "kernelspec": {
   "display_name": "ML-primary",
   "language": "python",
   "name": "python3"
  },
  "language_info": {
   "codemirror_mode": {
    "name": "ipython",
    "version": 3
   },
   "file_extension": ".py",
   "mimetype": "text/x-python",
   "name": "python",
   "nbconvert_exporter": "python",
   "pygments_lexer": "ipython3",
   "version": "3.10.8"
  },
  "orig_nbformat": 4
 },
 "nbformat": 4,
 "nbformat_minor": 2
}
