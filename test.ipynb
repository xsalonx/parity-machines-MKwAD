{
 "cells": [
  {
   "cell_type": "code",
   "execution_count": null,
   "metadata": {},
   "outputs": [],
   "source": [
    "import numpy as np\n",
    "import matplotlib.pyplot as plt\n",
    "import matplotlib.pyplot as mpl\n",
    "import pandas as pd\n",
    "import seaborn as sns\n",
    "\n",
    "import time\n",
    "import sys\n",
    "%matplotlib inline"
   ]
  },
  {
   "cell_type": "code",
   "execution_count": null,
   "metadata": {},
   "outputs": [],
   "source": [
    "from parity_machines.tree_machine import TreeParityMachine"
   ]
  },
  {
   "cell_type": "code",
   "execution_count": null,
   "metadata": {},
   "outputs": [],
   "source": [
    "def test_sync(k, n, l, update_rule='hebbian', echo=False, max_time=float('inf')):\n",
    "\n",
    "\tA = TreeParityMachine(n, k, l, update_rule=update_rule)\n",
    "\tB = TreeParityMachine(n, k, l, update_rule=update_rule)\n",
    "\tE = TreeParityMachine(n, k, l, update_rule=update_rule)\n",
    "\n",
    "\tdef sync_score(m1, m2):\n",
    "\t\treturn 1.0 - np.average(1.0 * np.abs(m1.W - m2.W)/(2 * l))\n",
    "\n",
    "\tsync = False \n",
    "\tupdates = 0\n",
    "\teve_updates = 0 \n",
    "\tscores = [] \n",
    "\teve_scores = []\n",
    "\n",
    "\tt1 = time.time()\n",
    "\twhile(not sync):\n",
    "\t\tX = A.generate_input()\n",
    "\n",
    "\t\ty_A = A.forward(X) \n",
    "\t\ty_B = B.forward(X) \n",
    "\t\ty_E = E.forward(X) \n",
    "\t\tA.update(y_B)\n",
    "\t\tB.update(y_A)\n",
    "\t\tupdates += 1\n",
    "\n",
    "\t\tif y_A == y_B == y_E:\n",
    "\t\t\tE.update(y_A)\n",
    "\t\t\teve_updates += 1\n",
    "\n",
    "\t\tscore = sync_score(A, B) \n",
    "\t\tscores.append(score)\n",
    "\t\tscore_EA = sync_score(A, E)\n",
    "\t\tscore_EB = sync_score(B, E)\n",
    "\t\teve_scores.append((score_EA, score_EB))\n",
    "\n",
    "\t\tsync = A.synced()\n",
    "\n",
    "\t\tscore_format = lambda s: str(int(s * 100))\n",
    "\t\tif echo:\n",
    "\t\t\tsys.stdout.write(f\"\\rSynchronization(AB, EA, EB) = ({score_format(score)}, {score_format(score_EA)}, {score_format(score_EB)})%   /\" \\\n",
    "\t\t\t+ f\"  Updates(AB, EAB)  = ({str(updates)}, {str(eve_updates)})\") \n",
    "\t\n",
    "\tif time.time() - t1 > max_time:\n",
    "\t\traise TimeoutError()\n",
    "\n",
    "\n",
    "\n",
    "\ttime_taken = time.time() - t1\n",
    "\n",
    "\tif echo:\n",
    "\t\tif sync:\n",
    "\t\t\tprint('\\nAlice and Bob are synchronized.')\n",
    "\t\tif eve_scores[-1][0] == 1:\n",
    "\t\t\tprint('Eve is also synchornized !!!')\n",
    "\treturn {'synced': (A.W == B.W).all(),\n",
    "\t \t\t'e-synced': (A.W == B.W).all() and (B.W == E.W).all(),\n",
    "\t  \t\t'time': time_taken,\n",
    "\t    \t'updates': updates,\n",
    "\t\t  \t'eve_updates': eve_updates,\n",
    "\t\t    'alice': A, 'bob': B, 'eve': E,\n",
    "\t\t\t'scores': np.array(scores),\n",
    "\t\t\t'eve_scores': np.array(eve_scores),\n",
    "\t\t\t'k': k,\n",
    "\t\t\t'n':n,\n",
    "\t\t\t'l':l,\n",
    "\t\t\t'update_rule':update_rule}\n",
    "\n",
    "\n",
    "def plot_res(res):\n",
    "    scores = res['scores']\n",
    "    eve_scores= res['eve_scores']\n",
    "\n",
    "    mpl.plot(scores)\n",
    "    mpl.plot(eve_scores[:, 0])\n",
    "    mpl.plot(eve_scores[:, 1])\n",
    "    plt.xlabel('updates')\n",
    "    plt.ylabel('sync score')\n",
    "    plt.legend(['Alice/Bob score', 'Eve/Alice score', 'Eve/Bob score'])\n",
    "    plt.title(f\"Sync progress for k={res['k']}, n={res['n']}, l={res['l']}, up_rule: {res['update_rule']}\\n\" + \\\n",
    "\t      f\"AB synced: {res['synced']}, ABE synced: {res['e-synced']}\")\n",
    "    print('Synced: ' + str(res['synced']))\n"
   ]
  },
  {
   "cell_type": "code",
   "execution_count": null,
   "metadata": {},
   "outputs": [],
   "source": [
    "# update_rules = ['hebbian', 'anti_hebbian', 'random_walk']\n",
    "# res = test_sync(k=2, n=10, l=2, update_rule=update_rules[0], echo=True, max_time=55)\n",
    "# plot_res(res)"
   ]
  },
  {
   "cell_type": "code",
   "execution_count": null,
   "metadata": {},
   "outputs": [],
   "source": [
    "import pickle\n",
    "k=2\n",
    "reps = 100\n",
    "res= {}\n",
    "ctr = 0\n",
    "for rule in ['hebbian', 'anti_hebbian', 'random_walk']:\n",
    "    for n in [20, 30, 40, 50]:\n",
    "        for l in [1, 8, 64, 128, 256]:\n",
    "            subs = []\n",
    "            for _ in range(reps):\n",
    "                ctr += 1\n",
    "                sres = test_sync(k=k, n=n, l=l, update_rule=rule, echo=False, max_time=55)\n",
    "                subs.append(sres['updates'])\n",
    "                sys.stdout.write(f\"\\r{ctr} / {3 * 4 * 5 * reps}\")\n",
    "            res[(k, n, l, rule)] = subs\n",
    "with open('tree-test-results.pkl', 'wb') as f:\n",
    "    pickle.dump(res, f)\n"
   ]
  },
  {
   "cell_type": "code",
   "execution_count": null,
   "metadata": {},
   "outputs": [],
   "source": [
    "with open('tree-test-results.pkl', 'rb') as f:\n",
    "    tres = pickle.load(f)"
   ]
  },
  {
   "cell_type": "code",
   "execution_count": 101,
   "metadata": {},
   "outputs": [],
   "source": [
    "rows = []\n",
    "for k in tres:\n",
    "    r = tres[k]\n",
    "    rowh = dict(zip(['k', 'n', 'l', 'rule'], k))\n",
    "    for ups in r:\n",
    "        row = rowh | {'updates': ups}\n",
    "        rows.append(row)"
   ]
  },
  {
   "cell_type": "code",
   "execution_count": 102,
   "metadata": {},
   "outputs": [
    {
     "data": {
      "text/html": [
       "<div>\n",
       "<style scoped>\n",
       "    .dataframe tbody tr th:only-of-type {\n",
       "        vertical-align: middle;\n",
       "    }\n",
       "\n",
       "    .dataframe tbody tr th {\n",
       "        vertical-align: top;\n",
       "    }\n",
       "\n",
       "    .dataframe thead th {\n",
       "        text-align: right;\n",
       "    }\n",
       "</style>\n",
       "<table border=\"1\" class=\"dataframe\">\n",
       "  <thead>\n",
       "    <tr style=\"text-align: right;\">\n",
       "      <th></th>\n",
       "      <th>k</th>\n",
       "      <th>n</th>\n",
       "      <th>l</th>\n",
       "      <th>rule</th>\n",
       "      <th>updates</th>\n",
       "    </tr>\n",
       "  </thead>\n",
       "  <tbody>\n",
       "    <tr>\n",
       "      <th>0</th>\n",
       "      <td>2</td>\n",
       "      <td>20</td>\n",
       "      <td>1</td>\n",
       "      <td>hebbian</td>\n",
       "      <td>107</td>\n",
       "    </tr>\n",
       "    <tr>\n",
       "      <th>1</th>\n",
       "      <td>2</td>\n",
       "      <td>20</td>\n",
       "      <td>1</td>\n",
       "      <td>hebbian</td>\n",
       "      <td>50</td>\n",
       "    </tr>\n",
       "    <tr>\n",
       "      <th>2</th>\n",
       "      <td>2</td>\n",
       "      <td>20</td>\n",
       "      <td>1</td>\n",
       "      <td>hebbian</td>\n",
       "      <td>221</td>\n",
       "    </tr>\n",
       "    <tr>\n",
       "      <th>3</th>\n",
       "      <td>2</td>\n",
       "      <td>20</td>\n",
       "      <td>1</td>\n",
       "      <td>hebbian</td>\n",
       "      <td>81</td>\n",
       "    </tr>\n",
       "    <tr>\n",
       "      <th>4</th>\n",
       "      <td>2</td>\n",
       "      <td>20</td>\n",
       "      <td>1</td>\n",
       "      <td>hebbian</td>\n",
       "      <td>61</td>\n",
       "    </tr>\n",
       "    <tr>\n",
       "      <th>...</th>\n",
       "      <td>...</td>\n",
       "      <td>...</td>\n",
       "      <td>...</td>\n",
       "      <td>...</td>\n",
       "      <td>...</td>\n",
       "    </tr>\n",
       "    <tr>\n",
       "      <th>1995</th>\n",
       "      <td>2</td>\n",
       "      <td>50</td>\n",
       "      <td>256</td>\n",
       "      <td>hebbian</td>\n",
       "      <td>388</td>\n",
       "    </tr>\n",
       "    <tr>\n",
       "      <th>1996</th>\n",
       "      <td>2</td>\n",
       "      <td>50</td>\n",
       "      <td>256</td>\n",
       "      <td>hebbian</td>\n",
       "      <td>385</td>\n",
       "    </tr>\n",
       "    <tr>\n",
       "      <th>1997</th>\n",
       "      <td>2</td>\n",
       "      <td>50</td>\n",
       "      <td>256</td>\n",
       "      <td>hebbian</td>\n",
       "      <td>414</td>\n",
       "    </tr>\n",
       "    <tr>\n",
       "      <th>1998</th>\n",
       "      <td>2</td>\n",
       "      <td>50</td>\n",
       "      <td>256</td>\n",
       "      <td>hebbian</td>\n",
       "      <td>325</td>\n",
       "    </tr>\n",
       "    <tr>\n",
       "      <th>1999</th>\n",
       "      <td>2</td>\n",
       "      <td>50</td>\n",
       "      <td>256</td>\n",
       "      <td>hebbian</td>\n",
       "      <td>416</td>\n",
       "    </tr>\n",
       "  </tbody>\n",
       "</table>\n",
       "<p>2000 rows × 5 columns</p>\n",
       "</div>"
      ],
      "text/plain": [
       "      k   n    l     rule  updates\n",
       "0     2  20    1  hebbian      107\n",
       "1     2  20    1  hebbian       50\n",
       "2     2  20    1  hebbian      221\n",
       "3     2  20    1  hebbian       81\n",
       "4     2  20    1  hebbian       61\n",
       "...  ..  ..  ...      ...      ...\n",
       "1995  2  50  256  hebbian      388\n",
       "1996  2  50  256  hebbian      385\n",
       "1997  2  50  256  hebbian      414\n",
       "1998  2  50  256  hebbian      325\n",
       "1999  2  50  256  hebbian      416\n",
       "\n",
       "[2000 rows x 5 columns]"
      ]
     },
     "execution_count": 102,
     "metadata": {},
     "output_type": "execute_result"
    }
   ],
   "source": [
    "df = pd.DataFrame.from_dict(rows)\n",
    "df.loc[df['rule'] == 'hebbian']"
   ]
  },
  {
   "cell_type": "code",
   "execution_count": 108,
   "metadata": {},
   "outputs": [
    {
     "data": {
      "text/plain": [
       "<seaborn.axisgrid.FacetGrid at 0x7fc2473c59f0>"
      ]
     },
     "execution_count": 108,
     "metadata": {},
     "output_type": "execute_result"
    },
    {
     "data": {
      "image/png": "[encoded data removed]",
      "text/plain": [
       "<Figure size 967.5x300 with 3 Axes>"
      ]
     },
     "metadata": {},
     "output_type": "display_data"
    }
   ],
   "source": [
    "g = sns.FacetGrid(df, col=\"rule\")\n",
    "g.map_dataframe(sns.boxplot, data=df, x=\"l\", y='updates', hue='n')\n",
    "g.add_legend()\n"
   ]
  },
  {
   "cell_type": "code",
   "execution_count": 109,
   "metadata": {},
   "outputs": [
    {
     "data": {
      "text/plain": [
       "<AxesSubplot: xlabel='l', ylabel='updates'>"
      ]
     },
     "execution_count": 109,
     "metadata": {},
     "output_type": "execute_result"
    },
    {
     "data": {
      "image/png": "[encoded data removed]",
      "text/plain": [
       "<Figure size 640x480 with 1 Axes>"
      ]
     },
     "metadata": {},
     "output_type": "display_data"
    }
   ],
   "source": [
    "sns.boxplot(data=df.loc[df['rule'] == 'random'], x='l', y='updates', hue='n')"
   ]
  },
  {
   "cell_type": "code",
   "execution_count": null,
   "metadata": {},
   "outputs": [],
   "source": [
    "# scolumns = [f\"s{i}\" for i in range(100)]\n",
    "# dfr = df.loc[df['rule'] == 'hebbian'].drop(columns='rule')\n",
    "# dfr['mean'] = dfr[scolumns].mean(axis=1)\n",
    "# dfr['std'] = dfr[scolumns].std(axis=1)\n",
    "# dfr.head()"
   ]
  },
  {
   "cell_type": "code",
   "execution_count": null,
   "metadata": {},
   "outputs": [],
   "source": [
    "# ctr = 0\n",
    "# correct = 0\n",
    "# nc = []\n",
    "# D = (10, 30)\n",
    "# iters = 10\n",
    "# mi = iters * (D[1] - D[0]) ** 3\n",
    "# for k in range(10, 20):\n",
    "#     for n in range(k + 10, k + 30):\n",
    "#         for l in range(*D):\n",
    "#             for _ in range(iters):\n",
    "#                 ctr += 1\n",
    "#                 res = test_sync(k=k, n=n, l=l, update_rule='hebbian', echo=False, max_time=55)\n",
    "#                 synced = res['synced']\n",
    "#                 correct += synced\n",
    "#                 if not synced:\n",
    "#                     print(f'oops!!!: {len(nc)}\\n')\n",
    "#                     nc.append((k,n,l))\n",
    "#                 sys.stdout.write(f\"\\r {ctr} / {mi}\")\n",
    "\n"
   ]
  },
  {
   "cell_type": "code",
   "execution_count": null,
   "metadata": {},
   "outputs": [],
   "source": [
    "alice = res['alice']\n",
    "bob = res['bob']\n",
    "eve = res['eve']"
   ]
  },
  {
   "cell_type": "code",
   "execution_count": null,
   "metadata": {},
   "outputs": [],
   "source": []
  }
 ],
 "metadata": {
  "kernelspec": {
   "display_name": "ML-primary",
   "language": "python",
   "name": "python3"
  },
  "language_info": {
   "codemirror_mode": {
    "name": "ipython",
    "version": 3
   },
   "file_extension": ".py",
   "mimetype": "text/x-python",
   "name": "python",
   "nbconvert_exporter": "python",
   "pygments_lexer": "ipython3",
   "version": "3.10.8"
  },
  "orig_nbformat": 4
 },
 "nbformat": 4,
 "nbformat_minor": 2
}
